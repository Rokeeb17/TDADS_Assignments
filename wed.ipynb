{
 "cells": [
  {
   "cell_type": "code",
   "execution_count": 37,
   "metadata": {},
   "outputs": [],
   "source": [
    "# creating a list\n",
    "myList = ['i', 'd', 'l', 'e']\n"
   ]
  },
  {
   "cell_type": "code",
   "execution_count": 38,
   "metadata": {},
   "outputs": [
    {
     "name": "stdout",
     "output_type": "stream",
     "text": [
      "['i', 'd', 'l', 'e']\n"
     ]
    }
   ],
   "source": [
    "# print my list\n",
    "print(myList)"
   ]
  },
  {
   "cell_type": "code",
   "execution_count": 39,
   "metadata": {},
   "outputs": [
    {
     "name": "stdout",
     "output_type": "stream",
     "text": [
      "['i', 'd']\n"
     ]
    }
   ],
   "source": [
    "#deleting entries from the list\n",
    "del myList[2:4]\n",
    "print(myList)"
   ]
  },
  {
   "cell_type": "code",
   "execution_count": 40,
   "metadata": {},
   "outputs": [
    {
     "name": "stdout",
     "output_type": "stream",
     "text": [
      "['i', 'n']\n"
     ]
    }
   ],
   "source": [
    "#changing an entry from one thing to another\n",
    "myList[1] = 'n'\n",
    "print(myList)"
   ]
  },
  {
   "cell_type": "code",
   "execution_count": 41,
   "metadata": {},
   "outputs": [
    {
     "name": "stdout",
     "output_type": "stream",
     "text": [
      "['s', 'i', 'n']\n"
     ]
    }
   ],
   "source": [
    "#making a new list by concatenating\n",
    "newList = ['s'] + myList\n",
    "print(newList)"
   ]
  },
  {
   "cell_type": "code",
   "execution_count": 42,
   "metadata": {},
   "outputs": [
    {
     "name": "stdout",
     "output_type": "stream",
     "text": [
      "['s', 'i', 'n', 'g']\n"
     ]
    }
   ],
   "source": [
    "#adding an entry to the end\n",
    "newList.append('g')\n",
    "print(newList)"
   ]
  },
  {
   "cell_type": "code",
   "execution_count": 43,
   "metadata": {},
   "outputs": [
    {
     "name": "stdout",
     "output_type": "stream",
     "text": [
      "['s', 't', 'i', 'n', 'g']\n"
     ]
    }
   ],
   "source": [
    "#insert\n",
    "newList.insert(1, 't')\n",
    "print(newList)"
   ]
  },
  {
   "cell_type": "code",
   "execution_count": 45,
   "metadata": {},
   "outputs": [
    {
     "name": "stdout",
     "output_type": "stream",
     "text": [
      "s\n"
     ]
    }
   ],
   "source": [
    "#choosing a random letter from the list\n",
    "import random\n",
    "letter = random.choice(newList)\n",
    "print(letter)"
   ]
  },
  {
   "cell_type": "code",
   "execution_count": 46,
   "metadata": {},
   "outputs": [
    {
     "name": "stdout",
     "output_type": "stream",
     "text": [
      "[0, 1, 2, 3, 4]\n"
     ]
    }
   ],
   "source": [
    "finalList = []\n",
    "for i in newList:\n",
    "    finalList.append(newList.index(i))\n",
    "print(finalList)"
   ]
  },
  {
   "cell_type": "code",
   "execution_count": 47,
   "metadata": {},
   "outputs": [
    {
     "data": {
      "text/plain": [
       "10"
      ]
     },
     "execution_count": 47,
     "metadata": {},
     "output_type": "execute_result"
    }
   ],
   "source": [
    "#the total of the indexes\n",
    "sum(finalList)"
   ]
  },
  {
   "cell_type": "code",
   "execution_count": 48,
   "metadata": {},
   "outputs": [
    {
     "data": {
      "text/plain": [
       "5"
      ]
     },
     "execution_count": 48,
     "metadata": {},
     "output_type": "execute_result"
    }
   ],
   "source": [
    "#finding the length\n",
    "len(finalList)"
   ]
  },
  {
   "cell_type": "code",
   "execution_count": 50,
   "metadata": {},
   "outputs": [
    {
     "name": "stdout",
     "output_type": "stream",
     "text": [
      "['one', 'two', 'three']\n"
     ]
    }
   ],
   "source": [
    "#making a new list\n",
    "myNewList = ['one','two','three']\n",
    "print(myNewList)"
   ]
  },
  {
   "cell_type": "code",
   "execution_count": 52,
   "metadata": {},
   "outputs": [
    {
     "name": "stdout",
     "output_type": "stream",
     "text": [
      "three\n"
     ]
    }
   ],
   "source": [
    "#printing just one entry from new list\n",
    "print(myNewList[2])"
   ]
  },
  {
   "cell_type": "code",
   "execution_count": 53,
   "metadata": {},
   "outputs": [
    {
     "name": "stdout",
     "output_type": "stream",
     "text": [
      "one\n",
      "two\n",
      "three\n"
     ]
    }
   ],
   "source": [
    "#loop through by accessing the element\n",
    "for i in myNewList:\n",
    "    print(i)"
   ]
  },
  {
   "cell_type": "code",
   "execution_count": 55,
   "metadata": {},
   "outputs": [
    {
     "name": "stdout",
     "output_type": "stream",
     "text": [
      "three\ttwo\tone\t"
     ]
    }
   ],
   "source": [
    "#printing the reversed list in a single line\n",
    "for i in reversed(myNewList):\n",
    "    print(i, end='\\t')"
   ]
  },
  {
   "cell_type": "code",
   "execution_count": 59,
   "metadata": {},
   "outputs": [
    {
     "name": "stdout",
     "output_type": "stream",
     "text": [
      "[4, 3, 2, 45, 3, 4, 5, 4, 2, 1]\n",
      "The average is 7.3\n",
      "4 is below average\n",
      "3 is below average\n",
      "2 is below average\n",
      "45 is above average\n",
      "3 is below average\n",
      "4 is below average\n",
      "5 is below average\n",
      "4 is below average\n",
      "2 is below average\n",
      "1 is below average\n"
     ]
    }
   ],
   "source": [
    "userArray = []\n",
    "\n",
    "for i in range(1,11):\n",
    "    while True:\n",
    "        user_input = input(f'Please enter an integer {i}: ')\n",
    "        try:\n",
    "            number = int(user_input)\n",
    "            userArray.append(number)\n",
    "            break\n",
    "        except ValueError:\n",
    "            print('Sorry, enter an integer please')\n",
    "\n",
    "sum(userArray)\n",
    "ave = sum(userArray)/10\n",
    "\n",
    "print(f'The average is {ave}')\n",
    "for i in userArray:\n",
    "    if i > ave:\n",
    "        print(f'{i} is above average')\n",
    "    elif i == ave:\n",
    "        print(f'{i} is equal to average')\n",
    "    else:\n",
    "        print(f'{i} is below average')\n"
   ]
  },
  {
   "cell_type": "code",
   "execution_count": 61,
   "metadata": {},
   "outputs": [
    {
     "name": "stdout",
     "output_type": "stream",
     "text": [
      "3.1\n",
      "4.1472\n"
     ]
    },
    {
     "data": {
      "text/plain": [
       "1"
      ]
     },
     "execution_count": 61,
     "metadata": {},
     "output_type": "execute_result"
    }
   ],
   "source": [
    "num = 3.1472\n",
    "\n",
    "# rounding a number to the specified decimal place (in this case, 1)\n",
    "print(round(num, 1))\n",
    "\n",
    "#evaluating a string as a python expression returns the result\n",
    "print(eval('num + 1'))\n",
    "\n",
    "#get a random integer in a desired range (from 1 up to and including 5)\n",
    "import random\n",
    "random.randint(1,5)"
   ]
  },
  {
   "cell_type": "code",
   "execution_count": 64,
   "metadata": {},
   "outputs": [
    {
     "data": {
      "text/plain": [
       "3364"
      ]
     },
     "execution_count": 64,
     "metadata": {},
     "output_type": "execute_result"
    }
   ],
   "source": [
    "#defining a function that squares numbers\n",
    "def square(number):\n",
    "    squaredNumber = number**2\n",
    "    return squaredNumber\n",
    "\n",
    "#how to call this function\n",
    "square(58)"
   ]
  },
  {
   "cell_type": "code",
   "execution_count": null,
   "metadata": {},
   "outputs": [],
   "source": [
    "#a function to create factorials\n",
    "def factorial(number):\n",
    "    if number == 0 or number == 1:\n",
    "        return 1\n",
    "    else:\n",
    "        result = 1\n",
    "        for i in range(1, number + 1):\n",
    "            result*=i\n",
    "            return result"
   ]
  },
  {
   "cell_type": "code",
   "execution_count": 65,
   "metadata": {},
   "outputs": [
    {
     "data": {
      "text/plain": [
       "136.36363636363635"
      ]
     },
     "execution_count": 65,
     "metadata": {},
     "output_type": "execute_result"
    }
   ],
   "source": [
    "#a function to convert lbs to kg\n",
    "#1kg = 2.2lbs\n",
    "def convertToKg(number):\n",
    "    kg = number/2.2\n",
    "    return kg\n",
    "\n",
    "convertToKg(300)"
   ]
  },
  {
   "cell_type": "code",
   "execution_count": 67,
   "metadata": {},
   "outputs": [
    {
     "data": {
      "text/plain": [
       "0.0"
      ]
     },
     "execution_count": 67,
     "metadata": {},
     "output_type": "execute_result"
    }
   ],
   "source": [
    "#function to convert fahrenheit to celsius\n",
    "#C = (F-32)*5/9\n",
    "def convertToCelsius(number):\n",
    "    celsius = (number-32)*5/9\n",
    "    return celsius\n",
    "\n",
    "convertToCelsius(32)"
   ]
  },
  {
   "cell_type": "code",
   "execution_count": 68,
   "metadata": {},
   "outputs": [],
   "source": [
    "#declare a gloabl variable (a variable that can be accessed from anywhere within the code)\n",
    "myVar = 'something random'\n",
    "\n",
    "#when I define a function, any variables in it are local (can only be accessed within the block)\n",
    "def myFunc():\n",
    "    localVar = 'I am great'\n",
    "    return localVar\n",
    "\n",
    "#I can no longer access localVar because I am outside the function"
   ]
  },
  {
   "cell_type": "code",
   "execution_count": 69,
   "metadata": {},
   "outputs": [
    {
     "name": "stdout",
     "output_type": "stream",
     "text": [
      "red, tomatoes\n",
      "\n",
      "green, watermelon\n",
      "\n",
      "orange, orange\n",
      "\n",
      "purple, grape\n"
     ]
    }
   ],
   "source": [
    "#reading text from a file\n",
    "with open('test.txt', 'r') as file:\n",
    "    for line in file:\n",
    "        print(line)"
   ]
  },
  {
   "cell_type": "code",
   "execution_count": 72,
   "metadata": {},
   "outputs": [
    {
     "name": "stdout",
     "output_type": "stream",
     "text": [
      "['red', ' tomatoes\\n']\n",
      "red  tomatoes\n",
      "\n",
      "['green', ' watermelon\\n']\n",
      "green  watermelon\n",
      "\n",
      "['orange', ' orange\\n']\n",
      "orange  orange\n",
      "\n",
      "['purple', ' grape']\n",
      "purple  grape\n"
     ]
    }
   ],
   "source": [
    "#reading text from a file, with \n",
    "#'r' means to read the file\n",
    "with open('test.txt', 'r') as file:\n",
    "    for line in file:\n",
    "        #this below line splits lines into separate arrays\n",
    "        line = line.split(',')\n",
    "        print(line)\n",
    "        # this below line will remove unnecessary line breaks, commas etc.\n",
    "        print(line[0].rstrip(), line[1])"
   ]
  },
  {
   "cell_type": "code",
   "execution_count": 75,
   "metadata": {},
   "outputs": [],
   "source": [
    "#define a function that will create a txt file\n",
    "def saveToFile(firstName, surName, age):\n",
    "    #'w' means to write to the file (to create and/or edit)\n",
    "    with open('newData.txt', 'w') as f:\n",
    "        line = ','.join([firstName, surName, age])\n",
    "        #line below to make sure new lines are given appropriate line break\n",
    "        f.write(line + '\\n')\n",
    "        #line below will then close the file\n",
    "        f.close\n",
    "\n",
    "firstName = input('First name: ')\n",
    "surName = input('Surname: ')\n",
    "age = input('Age: ')\n",
    "saveToFile(firstName, surName, age)"
   ]
  },
  {
   "cell_type": "code",
   "execution_count": 76,
   "metadata": {},
   "outputs": [
    {
     "name": "stdout",
     "output_type": "stream",
     "text": [
      "hey  stop\n",
      "you  go\n"
     ]
    }
   ],
   "source": [
    "#reading text from a CSV file\n",
    "import csv\n",
    "\n",
    "with open('csvdata.csv', mode='r') as csv_file:\n",
    "    reader = csv.reader(csv_file)\n",
    "    for line in reader:\n",
    "        print(line[0], line[1])"
   ]
  },
  {
   "cell_type": "code",
   "execution_count": null,
   "metadata": {},
   "outputs": [],
   "source": [
    "#writing to a csv file\n",
    "\n",
    "import csv\n",
    "#'a' means to append to the file\n",
    "with open('csvdata1.csv', 'a') as csv_file:\n",
    "    #delimiter separates the different fields with a comma\n",
    "    #quotechar allows for inclusion of quotes without getting confused\n",
    "    #quote minimal specifies quote behaviour - only delimiter affected fields should have quotation\n",
    "    characterWriter = csv.writer(csv_file, delimiter=',', quotechar='\"',quoting=csv.QUOTE_MINIMAL)\n",
    "    \n",
    "    characterWriter.writerow(['Margot', 'Gru'])\n",
    "    characterWriter.writerow(['Agnes', 'Gru'])\n",
    "    characterWriter.writerow(['Edith', 'Gru'])\n",
    "    characterWriter.writerow(['Despicable Me', 'Characters'])   "
   ]
  }
 ],
 "metadata": {
  "kernelspec": {
   "display_name": "Python 3",
   "language": "python",
   "name": "python3"
  },
  "language_info": {
   "codemirror_mode": {
    "name": "ipython",
    "version": 3
   },
   "file_extension": ".py",
   "mimetype": "text/x-python",
   "name": "python",
   "nbconvert_exporter": "python",
   "pygments_lexer": "ipython3",
   "version": "3.11.5"
  },
  "orig_nbformat": 4
 },
 "nbformat": 4,
 "nbformat_minor": 2
}
